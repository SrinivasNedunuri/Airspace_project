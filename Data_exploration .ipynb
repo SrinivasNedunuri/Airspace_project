{
 "cells": [
  {
   "cell_type": "code",
   "execution_count": 307,
   "metadata": {},
   "outputs": [],
   "source": [
    "import pandas as pd\n",
    "from uszipcode import SearchEngine # us zipcodes library to get latitude and longitude for distance calculation\n",
    "import mpu   #determines the great-circle distance between two points on a sphere.\n",
    "import seaborn as sns\n",
    "import numpy as np\n",
    "from scipy import stats\n",
    "from sklearn.model_selection import train_test_split\n",
    "from sklearn.ensemble import RandomForestRegressor\n",
    "# Import label encoder\n",
    "from sklearn import preprocessing\n",
    "import matplotlib.pyplot as plt\n",
    "from sklearn import metrics\n",
    "from sklearn.preprocessing import MultiLabelBinarizer"
   ]
  },
  {
   "cell_type": "markdown",
   "metadata": {},
   "source": [
    "# Data exploration"
   ]
  },
  {
   "cell_type": "code",
   "execution_count": 308,
   "metadata": {},
   "outputs": [],
   "source": [
    "df = pd.read_csv('order_records.csv')"
   ]
  },
  {
   "cell_type": "code",
   "execution_count": 309,
   "metadata": {},
   "outputs": [],
   "source": [
    "df.drop(df.columns[0], axis = 1, inplace=True) #dropping the extra column with row count inplace"
   ]
  },
  {
   "cell_type": "code",
   "execution_count": 310,
   "metadata": {},
   "outputs": [
    {
     "name": "stdout",
     "output_type": "stream",
     "text": [
      "<class 'pandas.core.frame.DataFrame'>\n",
      "RangeIndex: 10000 entries, 0 to 9999\n",
      "Data columns (total 9 columns):\n",
      " #   Column        Non-Null Count  Dtype  \n",
      "---  ------        --------------  -----  \n",
      " 0   ORDER_ID      10000 non-null  int64  \n",
      " 1   COMPANY_ID    10000 non-null  int64  \n",
      " 2   SERVICE_LINE  10000 non-null  int64  \n",
      " 3   DRIVER_TYPE   10000 non-null  object \n",
      " 4   WEIGHT_LBS    10000 non-null  float64\n",
      " 5   VOLUME_IN3    10000 non-null  float64\n",
      " 6   EXPENSE       10000 non-null  float64\n",
      " 7   PICKUP_ZIP    10000 non-null  object \n",
      " 8   DELIVERY_ZIP  10000 non-null  object \n",
      "dtypes: float64(3), int64(3), object(3)\n",
      "memory usage: 703.2+ KB\n"
     ]
    }
   ],
   "source": [
    "df.info() # checking for data type of columns and existence of nulls"
   ]
  },
  {
   "cell_type": "code",
   "execution_count": 311,
   "metadata": {},
   "outputs": [
    {
     "data": {
      "text/html": [
       "<div>\n",
       "<style scoped>\n",
       "    .dataframe tbody tr th:only-of-type {\n",
       "        vertical-align: middle;\n",
       "    }\n",
       "\n",
       "    .dataframe tbody tr th {\n",
       "        vertical-align: top;\n",
       "    }\n",
       "\n",
       "    .dataframe thead th {\n",
       "        text-align: right;\n",
       "    }\n",
       "</style>\n",
       "<table border=\"1\" class=\"dataframe\">\n",
       "  <thead>\n",
       "    <tr style=\"text-align: right;\">\n",
       "      <th></th>\n",
       "      <th>ORDER_ID</th>\n",
       "      <th>COMPANY_ID</th>\n",
       "      <th>SERVICE_LINE</th>\n",
       "      <th>DRIVER_TYPE</th>\n",
       "      <th>WEIGHT_LBS</th>\n",
       "      <th>VOLUME_IN3</th>\n",
       "      <th>EXPENSE</th>\n",
       "      <th>PICKUP_ZIP</th>\n",
       "      <th>DELIVERY_ZIP</th>\n",
       "    </tr>\n",
       "  </thead>\n",
       "  <tbody>\n",
       "    <tr>\n",
       "      <th>9995</th>\n",
       "      <td>109996</td>\n",
       "      <td>573</td>\n",
       "      <td>1</td>\n",
       "      <td>commander</td>\n",
       "      <td>1.0</td>\n",
       "      <td>1.0</td>\n",
       "      <td>0.00</td>\n",
       "      <td>92562</td>\n",
       "      <td>92562</td>\n",
       "    </tr>\n",
       "    <tr>\n",
       "      <th>9996</th>\n",
       "      <td>109997</td>\n",
       "      <td>1056</td>\n",
       "      <td>1</td>\n",
       "      <td>commander</td>\n",
       "      <td>1.0</td>\n",
       "      <td>1.0</td>\n",
       "      <td>21.87</td>\n",
       "      <td>91730</td>\n",
       "      <td>91766</td>\n",
       "    </tr>\n",
       "    <tr>\n",
       "      <th>9997</th>\n",
       "      <td>109998</td>\n",
       "      <td>573</td>\n",
       "      <td>1</td>\n",
       "      <td>agent</td>\n",
       "      <td>1.0</td>\n",
       "      <td>1.0</td>\n",
       "      <td>0.00</td>\n",
       "      <td>92376</td>\n",
       "      <td>92880</td>\n",
       "    </tr>\n",
       "    <tr>\n",
       "      <th>9998</th>\n",
       "      <td>109999</td>\n",
       "      <td>14</td>\n",
       "      <td>1</td>\n",
       "      <td>commander</td>\n",
       "      <td>10.0</td>\n",
       "      <td>3520.0</td>\n",
       "      <td>91.68</td>\n",
       "      <td>20166</td>\n",
       "      <td>20109</td>\n",
       "    </tr>\n",
       "    <tr>\n",
       "      <th>9999</th>\n",
       "      <td>110000</td>\n",
       "      <td>157</td>\n",
       "      <td>1</td>\n",
       "      <td>commander</td>\n",
       "      <td>40.0</td>\n",
       "      <td>1.0</td>\n",
       "      <td>184.56</td>\n",
       "      <td>31903</td>\n",
       "      <td>31707</td>\n",
       "    </tr>\n",
       "  </tbody>\n",
       "</table>\n",
       "</div>"
      ],
      "text/plain": [
       "      ORDER_ID  COMPANY_ID  SERVICE_LINE DRIVER_TYPE  WEIGHT_LBS  VOLUME_IN3  \\\n",
       "9995    109996         573             1   commander         1.0         1.0   \n",
       "9996    109997        1056             1   commander         1.0         1.0   \n",
       "9997    109998         573             1       agent         1.0         1.0   \n",
       "9998    109999          14             1   commander        10.0      3520.0   \n",
       "9999    110000         157             1   commander        40.0         1.0   \n",
       "\n",
       "      EXPENSE PICKUP_ZIP DELIVERY_ZIP  \n",
       "9995     0.00      92562        92562  \n",
       "9996    21.87      91730        91766  \n",
       "9997     0.00      92376        92880  \n",
       "9998    91.68      20166        20109  \n",
       "9999   184.56      31903        31707  "
      ]
     },
     "execution_count": 311,
     "metadata": {},
     "output_type": "execute_result"
    }
   ],
   "source": [
    "df.tail()"
   ]
  },
  {
   "cell_type": "markdown",
   "metadata": {},
   "source": [
    "Feature Extraction"
   ]
  },
  {
   "cell_type": "code",
   "execution_count": 312,
   "metadata": {},
   "outputs": [],
   "source": [
    "search = SearchEngine(simple_zipcode=True)\n",
    "def zip_to_lat_long(zip):  # zip code to state, city, county\n",
    "    zip1 = search.by_zipcode(zip)\n",
    "    return [zip1.lat, zip1.lng], zip1.major_city, zip1.county, zip1.state\n",
    "\n",
    "def distance_calc(pick_up, delivery):   # distance calculated from lat and long coordinates\n",
    "    output = []\n",
    "    for i in range(len(pick_up)):\n",
    "        pickup_lat, pickup_long = list(pick_up)[i][0], list(pick_up)[i][1]\n",
    "        deliv_lat, deliv_long = list(delivery)[i][0], list(delivery)[i][1]\n",
    "        try:\n",
    "            dist = round(mpu.haversine_distance((pickup_lat, pickup_long), (deliv_lat, deliv_long)), 2)\n",
    "            dist*=0.62137119\n",
    "            output.append(round(dist, 2))\n",
    "        except TypeError:\n",
    "            output.append(-1)\n",
    "    return pd.Series(output)"
   ]
  },
  {
   "cell_type": "code",
   "execution_count": null,
   "metadata": {},
   "outputs": [],
   "source": [
    "# new features using the above methods\n",
    "\n",
    "df['pick_up_coordinates'], df['pickup_city'], df['pickup_county'], df['pickup_state'] = zip(*df['PICKUP_ZIP'].apply(zip_to_lat_long))\n",
    "df['deliv_coordinates'],  df['deliv_city'], df['deliv_county'], df['deliv_state'] = zip(*df['DELIVERY_ZIP'].apply(zip_to_lat_long))\n",
    "df['distance'] = distance_calc(df['pick_up_coordinates'], df['deliv_coordinates'])\n",
    "df['same_state'] = df['pickup_state'] == df['deliv_state']\n",
    "df.head()"
   ]
  },
  {
   "cell_type": "code",
   "execution_count": 314,
   "metadata": {},
   "outputs": [
    {
     "name": "stdout",
     "output_type": "stream",
     "text": [
      "<class 'pandas.core.frame.DataFrame'>\n",
      "RangeIndex: 10000 entries, 0 to 9999\n",
      "Data columns (total 19 columns):\n",
      " #   Column               Non-Null Count  Dtype  \n",
      "---  ------               --------------  -----  \n",
      " 0   ORDER_ID             10000 non-null  int64  \n",
      " 1   COMPANY_ID           10000 non-null  int64  \n",
      " 2   SERVICE_LINE         10000 non-null  int64  \n",
      " 3   DRIVER_TYPE          10000 non-null  object \n",
      " 4   WEIGHT_LBS           10000 non-null  float64\n",
      " 5   VOLUME_IN3           10000 non-null  float64\n",
      " 6   EXPENSE              10000 non-null  float64\n",
      " 7   PICKUP_ZIP           10000 non-null  object \n",
      " 8   DELIVERY_ZIP         10000 non-null  object \n",
      " 9   pick_up_coordinates  10000 non-null  object \n",
      " 10  pickup_city          9844 non-null   object \n",
      " 11  pickup_county        9844 non-null   object \n",
      " 12  pickup_state         9844 non-null   object \n",
      " 13  deliv_coordinates    10000 non-null  object \n",
      " 14  deliv_city           9901 non-null   object \n",
      " 15  deliv_county         9901 non-null   object \n",
      " 16  deliv_state          9901 non-null   object \n",
      " 17  distance             10000 non-null  float64\n",
      " 18  same_state           10000 non-null  bool   \n",
      "dtypes: bool(1), float64(4), int64(3), object(11)\n",
      "memory usage: 1.4+ MB\n"
     ]
    }
   ],
   "source": [
    "df.info()"
   ]
  },
  {
   "cell_type": "code",
   "execution_count": 315,
   "metadata": {},
   "outputs": [
    {
     "data": {
      "text/html": [
       "<div>\n",
       "<style scoped>\n",
       "    .dataframe tbody tr th:only-of-type {\n",
       "        vertical-align: middle;\n",
       "    }\n",
       "\n",
       "    .dataframe tbody tr th {\n",
       "        vertical-align: top;\n",
       "    }\n",
       "\n",
       "    .dataframe thead th {\n",
       "        text-align: right;\n",
       "    }\n",
       "</style>\n",
       "<table border=\"1\" class=\"dataframe\">\n",
       "  <thead>\n",
       "    <tr style=\"text-align: right;\">\n",
       "      <th></th>\n",
       "      <th>ORDER_ID</th>\n",
       "      <th>COMPANY_ID</th>\n",
       "      <th>SERVICE_LINE</th>\n",
       "      <th>WEIGHT_LBS</th>\n",
       "      <th>VOLUME_IN3</th>\n",
       "      <th>EXPENSE</th>\n",
       "      <th>distance</th>\n",
       "    </tr>\n",
       "  </thead>\n",
       "  <tbody>\n",
       "    <tr>\n",
       "      <th>count</th>\n",
       "      <td>10000.00000</td>\n",
       "      <td>10000.000000</td>\n",
       "      <td>10000.000000</td>\n",
       "      <td>10000.000000</td>\n",
       "      <td>10000.000000</td>\n",
       "      <td>10000.000000</td>\n",
       "      <td>10000.000000</td>\n",
       "    </tr>\n",
       "    <tr>\n",
       "      <th>mean</th>\n",
       "      <td>105000.50000</td>\n",
       "      <td>723.491700</td>\n",
       "      <td>1.044800</td>\n",
       "      <td>73.550117</td>\n",
       "      <td>5390.183335</td>\n",
       "      <td>121.593765</td>\n",
       "      <td>52.405417</td>\n",
       "    </tr>\n",
       "    <tr>\n",
       "      <th>std</th>\n",
       "      <td>2886.89568</td>\n",
       "      <td>375.894039</td>\n",
       "      <td>0.206875</td>\n",
       "      <td>5000.884862</td>\n",
       "      <td>31022.323197</td>\n",
       "      <td>193.312309</td>\n",
       "      <td>85.435098</td>\n",
       "    </tr>\n",
       "    <tr>\n",
       "      <th>min</th>\n",
       "      <td>100001.00000</td>\n",
       "      <td>9.000000</td>\n",
       "      <td>1.000000</td>\n",
       "      <td>0.000000</td>\n",
       "      <td>0.000000</td>\n",
       "      <td>0.000000</td>\n",
       "      <td>-1.000000</td>\n",
       "    </tr>\n",
       "    <tr>\n",
       "      <th>25%</th>\n",
       "      <td>102500.75000</td>\n",
       "      <td>435.000000</td>\n",
       "      <td>1.000000</td>\n",
       "      <td>1.000000</td>\n",
       "      <td>1.000000</td>\n",
       "      <td>32.100000</td>\n",
       "      <td>7.280000</td>\n",
       "    </tr>\n",
       "    <tr>\n",
       "      <th>50%</th>\n",
       "      <td>105000.50000</td>\n",
       "      <td>680.000000</td>\n",
       "      <td>1.000000</td>\n",
       "      <td>2.000000</td>\n",
       "      <td>216.000000</td>\n",
       "      <td>59.200000</td>\n",
       "      <td>20.180000</td>\n",
       "    </tr>\n",
       "    <tr>\n",
       "      <th>75%</th>\n",
       "      <td>107500.25000</td>\n",
       "      <td>1045.000000</td>\n",
       "      <td>1.000000</td>\n",
       "      <td>16.000000</td>\n",
       "      <td>2496.000000</td>\n",
       "      <td>137.350000</td>\n",
       "      <td>66.470000</td>\n",
       "    </tr>\n",
       "    <tr>\n",
       "      <th>max</th>\n",
       "      <td>110000.00000</td>\n",
       "      <td>1351.000000</td>\n",
       "      <td>2.000000</td>\n",
       "      <td>500000.000000</td>\n",
       "      <td>975240.000000</td>\n",
       "      <td>5014.000000</td>\n",
       "      <td>1949.580000</td>\n",
       "    </tr>\n",
       "  </tbody>\n",
       "</table>\n",
       "</div>"
      ],
      "text/plain": [
       "           ORDER_ID    COMPANY_ID  SERVICE_LINE     WEIGHT_LBS     VOLUME_IN3  \\\n",
       "count   10000.00000  10000.000000  10000.000000   10000.000000   10000.000000   \n",
       "mean   105000.50000    723.491700      1.044800      73.550117    5390.183335   \n",
       "std      2886.89568    375.894039      0.206875    5000.884862   31022.323197   \n",
       "min    100001.00000      9.000000      1.000000       0.000000       0.000000   \n",
       "25%    102500.75000    435.000000      1.000000       1.000000       1.000000   \n",
       "50%    105000.50000    680.000000      1.000000       2.000000     216.000000   \n",
       "75%    107500.25000   1045.000000      1.000000      16.000000    2496.000000   \n",
       "max    110000.00000   1351.000000      2.000000  500000.000000  975240.000000   \n",
       "\n",
       "            EXPENSE      distance  \n",
       "count  10000.000000  10000.000000  \n",
       "mean     121.593765     52.405417  \n",
       "std      193.312309     85.435098  \n",
       "min        0.000000     -1.000000  \n",
       "25%       32.100000      7.280000  \n",
       "50%       59.200000     20.180000  \n",
       "75%      137.350000     66.470000  \n",
       "max     5014.000000   1949.580000  "
      ]
     },
     "execution_count": 315,
     "metadata": {},
     "output_type": "execute_result"
    }
   ],
   "source": [
    "df.describe() #summarizing the numerical and object series "
   ]
  },
  {
   "cell_type": "code",
   "execution_count": 316,
   "metadata": {},
   "outputs": [
    {
     "data": {
      "text/plain": [
       "(10000, 19)"
      ]
     },
     "execution_count": 316,
     "metadata": {},
     "output_type": "execute_result"
    }
   ],
   "source": [
    "df.shape"
   ]
  },
  {
   "cell_type": "code",
   "execution_count": 317,
   "metadata": {},
   "outputs": [],
   "source": [
    "def outlier_detection(column):\n",
    "    # This value/score helps to understand that how far is the data point from the mean.\n",
    "    # And after setting up a threshold value one can utilize z score values of data points to define the outliers.\n",
    "    # Zscore = (data_point -mean) / std. deviation\n",
    "    # Now to define an outlier threshold value is chosen which is generally 3.0.\n",
    "    # As 99.7% of the data points lie between +/- 3 standard deviation (using Gaussian Distribution approach).\n",
    "    z = np.abs(stats.zscore(column))\n",
    "    threshold = 3\n",
    "    return np.where(z>3)"
   ]
  },
  {
   "cell_type": "code",
   "execution_count": 318,
   "metadata": {},
   "outputs": [],
   "source": [
    "weight_outliers = outlier_detection(df['WEIGHT_LBS'])"
   ]
  },
  {
   "cell_type": "code",
   "execution_count": 319,
   "metadata": {},
   "outputs": [
    {
     "data": {
      "text/html": [
       "<div>\n",
       "<style scoped>\n",
       "    .dataframe tbody tr th:only-of-type {\n",
       "        vertical-align: middle;\n",
       "    }\n",
       "\n",
       "    .dataframe tbody tr th {\n",
       "        vertical-align: top;\n",
       "    }\n",
       "\n",
       "    .dataframe thead th {\n",
       "        text-align: right;\n",
       "    }\n",
       "</style>\n",
       "<table border=\"1\" class=\"dataframe\">\n",
       "  <thead>\n",
       "    <tr style=\"text-align: right;\">\n",
       "      <th></th>\n",
       "      <th>ORDER_ID</th>\n",
       "      <th>COMPANY_ID</th>\n",
       "      <th>SERVICE_LINE</th>\n",
       "      <th>DRIVER_TYPE</th>\n",
       "      <th>WEIGHT_LBS</th>\n",
       "      <th>VOLUME_IN3</th>\n",
       "      <th>EXPENSE</th>\n",
       "      <th>PICKUP_ZIP</th>\n",
       "      <th>DELIVERY_ZIP</th>\n",
       "      <th>pick_up_coordinates</th>\n",
       "      <th>pickup_city</th>\n",
       "      <th>pickup_county</th>\n",
       "      <th>pickup_state</th>\n",
       "      <th>deliv_coordinates</th>\n",
       "      <th>deliv_city</th>\n",
       "      <th>deliv_county</th>\n",
       "      <th>deliv_state</th>\n",
       "      <th>distance</th>\n",
       "      <th>same_state</th>\n",
       "    </tr>\n",
       "  </thead>\n",
       "  <tbody>\n",
       "    <tr>\n",
       "      <th>5000</th>\n",
       "      <td>105002</td>\n",
       "      <td>371</td>\n",
       "      <td>1</td>\n",
       "      <td>agent</td>\n",
       "      <td>500000.0</td>\n",
       "      <td>2.0</td>\n",
       "      <td>55.08</td>\n",
       "      <td>95901</td>\n",
       "      <td>95965</td>\n",
       "      <td>(39.2, -121.5)</td>\n",
       "      <td>Marysville</td>\n",
       "      <td>Yuba County</td>\n",
       "      <td>CA</td>\n",
       "      <td>(39.6, -121.6)</td>\n",
       "      <td>Oroville</td>\n",
       "      <td>Butte County</td>\n",
       "      <td>CA</td>\n",
       "      <td>28.15</td>\n",
       "      <td>True</td>\n",
       "    </tr>\n",
       "  </tbody>\n",
       "</table>\n",
       "</div>"
      ],
      "text/plain": [
       "      ORDER_ID  COMPANY_ID  SERVICE_LINE DRIVER_TYPE  WEIGHT_LBS  VOLUME_IN3  \\\n",
       "5000    105002         371             1       agent    500000.0         2.0   \n",
       "\n",
       "      EXPENSE PICKUP_ZIP DELIVERY_ZIP pick_up_coordinates pickup_city  \\\n",
       "5000    55.08      95901        95965      (39.2, -121.5)  Marysville   \n",
       "\n",
       "     pickup_county pickup_state deliv_coordinates deliv_city  deliv_county  \\\n",
       "5000   Yuba County           CA    (39.6, -121.6)   Oroville  Butte County   \n",
       "\n",
       "     deliv_state  distance  same_state  \n",
       "5000          CA     28.15        True  "
      ]
     },
     "execution_count": 319,
     "metadata": {},
     "output_type": "execute_result"
    }
   ],
   "source": [
    "df.iloc[weight_outliers]"
   ]
  },
  {
   "cell_type": "code",
   "execution_count": 320,
   "metadata": {},
   "outputs": [],
   "source": [
    "df.drop(index = 5000, inplace = True)"
   ]
  },
  {
   "cell_type": "code",
   "execution_count": 321,
   "metadata": {},
   "outputs": [
    {
     "data": {
      "text/plain": [
       "(9999, 19)"
      ]
     },
     "execution_count": 321,
     "metadata": {},
     "output_type": "execute_result"
    }
   ],
   "source": [
    "df.shape"
   ]
  },
  {
   "cell_type": "code",
   "execution_count": 322,
   "metadata": {},
   "outputs": [],
   "source": [
    "df.to_csv('transformed_orders.csv')  #taking data out for visualizations in tableau"
   ]
  },
  {
   "cell_type": "code",
   "execution_count": 323,
   "metadata": {},
   "outputs": [
    {
     "data": {
      "text/html": [
       "<div>\n",
       "<style scoped>\n",
       "    .dataframe tbody tr th:only-of-type {\n",
       "        vertical-align: middle;\n",
       "    }\n",
       "\n",
       "    .dataframe tbody tr th {\n",
       "        vertical-align: top;\n",
       "    }\n",
       "\n",
       "    .dataframe thead th {\n",
       "        text-align: right;\n",
       "    }\n",
       "</style>\n",
       "<table border=\"1\" class=\"dataframe\">\n",
       "  <thead>\n",
       "    <tr style=\"text-align: right;\">\n",
       "      <th></th>\n",
       "      <th>COMPANY_ID</th>\n",
       "      <th>ORDER_ID</th>\n",
       "    </tr>\n",
       "  </thead>\n",
       "  <tbody>\n",
       "    <tr>\n",
       "      <th>77</th>\n",
       "      <td>573</td>\n",
       "      <td>685</td>\n",
       "    </tr>\n",
       "    <tr>\n",
       "      <th>145</th>\n",
       "      <td>980</td>\n",
       "      <td>573</td>\n",
       "    </tr>\n",
       "    <tr>\n",
       "      <th>168</th>\n",
       "      <td>1127</td>\n",
       "      <td>398</td>\n",
       "    </tr>\n",
       "    <tr>\n",
       "      <th>97</th>\n",
       "      <td>667</td>\n",
       "      <td>364</td>\n",
       "    </tr>\n",
       "    <tr>\n",
       "      <th>50</th>\n",
       "      <td>371</td>\n",
       "      <td>346</td>\n",
       "    </tr>\n",
       "    <tr>\n",
       "      <th>...</th>\n",
       "      <td>...</td>\n",
       "      <td>...</td>\n",
       "    </tr>\n",
       "    <tr>\n",
       "      <th>94</th>\n",
       "      <td>661</td>\n",
       "      <td>1</td>\n",
       "    </tr>\n",
       "    <tr>\n",
       "      <th>188</th>\n",
       "      <td>1190</td>\n",
       "      <td>1</td>\n",
       "    </tr>\n",
       "    <tr>\n",
       "      <th>88</th>\n",
       "      <td>607</td>\n",
       "      <td>1</td>\n",
       "    </tr>\n",
       "    <tr>\n",
       "      <th>85</th>\n",
       "      <td>592</td>\n",
       "      <td>1</td>\n",
       "    </tr>\n",
       "    <tr>\n",
       "      <th>90</th>\n",
       "      <td>650</td>\n",
       "      <td>1</td>\n",
       "    </tr>\n",
       "  </tbody>\n",
       "</table>\n",
       "<p>244 rows × 2 columns</p>\n",
       "</div>"
      ],
      "text/plain": [
       "     COMPANY_ID  ORDER_ID\n",
       "77          573       685\n",
       "145         980       573\n",
       "168        1127       398\n",
       "97          667       364\n",
       "50          371       346\n",
       "..          ...       ...\n",
       "94          661         1\n",
       "188        1190         1\n",
       "88          607         1\n",
       "85          592         1\n",
       "90          650         1\n",
       "\n",
       "[244 rows x 2 columns]"
      ]
     },
     "execution_count": 323,
     "metadata": {},
     "output_type": "execute_result"
    }
   ],
   "source": [
    "df.groupby('COMPANY_ID')['ORDER_ID'].count().reset_index().sort_values(by = 'ORDER_ID', ascending = False)"
   ]
  },
  {
   "cell_type": "code",
   "execution_count": 324,
   "metadata": {},
   "outputs": [
    {
     "data": {
      "text/plain": [
       "DRIVER_TYPE\n",
       "agent        43.206264\n",
       "commander    11.371133\n",
       "Name: WEIGHT_LBS, dtype: float64"
      ]
     },
     "execution_count": 324,
     "metadata": {},
     "output_type": "execute_result"
    }
   ],
   "source": [
    "df.groupby('DRIVER_TYPE')['WEIGHT_LBS'].mean()"
   ]
  },
  {
   "cell_type": "code",
   "execution_count": 325,
   "metadata": {},
   "outputs": [
    {
     "data": {
      "text/plain": [
       "DRIVER_TYPE\n",
       "agent        165.471942\n",
       "commander     94.409026\n",
       "Name: EXPENSE, dtype: float64"
      ]
     },
     "execution_count": 325,
     "metadata": {},
     "output_type": "execute_result"
    }
   ],
   "source": [
    "df.groupby('DRIVER_TYPE')['EXPENSE'].mean()"
   ]
  },
  {
   "cell_type": "code",
   "execution_count": 326,
   "metadata": {},
   "outputs": [
    {
     "data": {
      "text/plain": [
       "DRIVER_TYPE\n",
       "agent        61.032154\n",
       "commander    47.062530\n",
       "Name: distance, dtype: float64"
      ]
     },
     "execution_count": 326,
     "metadata": {},
     "output_type": "execute_result"
    }
   ],
   "source": [
    "df.groupby('DRIVER_TYPE')['distance'].mean()"
   ]
  },
  {
   "cell_type": "markdown",
   "metadata": {},
   "source": [
    "# Data Prepocessing"
   ]
  },
  {
   "cell_type": "code",
   "execution_count": 327,
   "metadata": {},
   "outputs": [],
   "source": [
    "Y = df['EXPENSE']  #response variable"
   ]
  },
  {
   "cell_type": "code",
   "execution_count": 328,
   "metadata": {},
   "outputs": [],
   "source": [
    "X = df[['COMPANY_ID', 'SERVICE_LINE', 'DRIVER_TYPE' , 'WEIGHT_LBS', 'VOLUME_IN3', 'PICKUP_ZIP', 'DELIVERY_ZIP', 'distance',\n",
    "       'same_state']]     #independent variables"
   ]
  },
  {
   "cell_type": "code",
   "execution_count": 329,
   "metadata": {},
   "outputs": [
    {
     "data": {
      "text/plain": [
       "(1484, array(['commander', 'agent'], dtype=object))"
      ]
     },
     "execution_count": 329,
     "metadata": {},
     "output_type": "execute_result"
    }
   ],
   "source": [
    "len(X['PICKUP_ZIP'].unique()), X['DRIVER_TYPE'].unique()"
   ]
  },
  {
   "cell_type": "code",
   "execution_count": null,
   "metadata": {},
   "outputs": [],
   "source": [
    "# label_encoder object knows how to understand word labels.\n",
    "label_encoder = preprocessing.LabelEncoder()\n",
    "  \n",
    "# Encode labels in column 'species'.\n",
    "X['DRIVER_TYPE_N']= label_encoder.fit_transform(X['DRIVER_TYPE'])\n",
    "X['same_state_N']= label_encoder.fit_transform(X['same_state'])\n",
    "X['PICKUP_ZIP_LABEL'] = label_encoder.fit_transform(X['PICKUP_ZIP'])\n",
    "X['DELIVERY_ZIP_LABEL'] = label_encoder.fit_transform(X['DELIVERY_ZIP'])\n"
   ]
  },
  {
   "cell_type": "code",
   "execution_count": null,
   "metadata": {},
   "outputs": [],
   "source": [
    "X.drop(['DRIVER_TYPE', 'PICKUP_ZIP', 'DELIVERY_ZIP', 'same_state'], axis = 1, inplace=True)\n",
    "X.head()  #final dataset for ML"
   ]
  },
  {
   "cell_type": "code",
   "execution_count": 332,
   "metadata": {},
   "outputs": [
    {
     "data": {
      "text/plain": [
       "0    304.93\n",
       "1    354.10\n",
       "2    306.83\n",
       "3     36.83\n",
       "4    611.27\n",
       "Name: EXPENSE, dtype: float64"
      ]
     },
     "execution_count": 332,
     "metadata": {},
     "output_type": "execute_result"
    }
   ],
   "source": [
    "Y.head()"
   ]
  },
  {
   "cell_type": "code",
   "execution_count": 333,
   "metadata": {},
   "outputs": [],
   "source": [
    "X_train, X_test, y_train, y_test = train_test_split(X, Y, test_size=0.2)"
   ]
  },
  {
   "cell_type": "markdown",
   "metadata": {},
   "source": [
    "# Random Forest Regressor"
   ]
  },
  {
   "cell_type": "code",
   "execution_count": 334,
   "metadata": {},
   "outputs": [],
   "source": [
    "#Create a Gaussian Classifier\n",
    "regressor=RandomForestRegressor(n_estimators=100)\n",
    "\n",
    "#Train the model using the training sets y_pred=clf.predict(X_test)\n",
    "regressor.fit(X_train,y_train)\n",
    "#predict the test dataset\n",
    "y_pred=regressor.predict(X_test)"
   ]
  },
  {
   "cell_type": "code",
   "execution_count": 335,
   "metadata": {},
   "outputs": [
    {
     "data": {
      "text/html": [
       "<div>\n",
       "<style scoped>\n",
       "    .dataframe tbody tr th:only-of-type {\n",
       "        vertical-align: middle;\n",
       "    }\n",
       "\n",
       "    .dataframe tbody tr th {\n",
       "        vertical-align: top;\n",
       "    }\n",
       "\n",
       "    .dataframe thead th {\n",
       "        text-align: right;\n",
       "    }\n",
       "</style>\n",
       "<table border=\"1\" class=\"dataframe\">\n",
       "  <thead>\n",
       "    <tr style=\"text-align: right;\">\n",
       "      <th></th>\n",
       "      <th>index</th>\n",
       "      <th>Real Values</th>\n",
       "      <th>Predicted Values</th>\n",
       "    </tr>\n",
       "  </thead>\n",
       "  <tbody>\n",
       "    <tr>\n",
       "      <th>0</th>\n",
       "      <td>1840</td>\n",
       "      <td>99.61</td>\n",
       "      <td>93.639200</td>\n",
       "    </tr>\n",
       "    <tr>\n",
       "      <th>1</th>\n",
       "      <td>587</td>\n",
       "      <td>48.16</td>\n",
       "      <td>37.366641</td>\n",
       "    </tr>\n",
       "    <tr>\n",
       "      <th>2</th>\n",
       "      <td>9097</td>\n",
       "      <td>71.59</td>\n",
       "      <td>47.313190</td>\n",
       "    </tr>\n",
       "    <tr>\n",
       "      <th>3</th>\n",
       "      <td>4547</td>\n",
       "      <td>51.20</td>\n",
       "      <td>33.672814</td>\n",
       "    </tr>\n",
       "    <tr>\n",
       "      <th>4</th>\n",
       "      <td>3726</td>\n",
       "      <td>57.82</td>\n",
       "      <td>47.139621</td>\n",
       "    </tr>\n",
       "    <tr>\n",
       "      <th>...</th>\n",
       "      <td>...</td>\n",
       "      <td>...</td>\n",
       "      <td>...</td>\n",
       "    </tr>\n",
       "    <tr>\n",
       "      <th>1995</th>\n",
       "      <td>7732</td>\n",
       "      <td>292.89</td>\n",
       "      <td>309.998200</td>\n",
       "    </tr>\n",
       "    <tr>\n",
       "      <th>1996</th>\n",
       "      <td>5712</td>\n",
       "      <td>26.95</td>\n",
       "      <td>46.215142</td>\n",
       "    </tr>\n",
       "    <tr>\n",
       "      <th>1997</th>\n",
       "      <td>4866</td>\n",
       "      <td>49.50</td>\n",
       "      <td>57.784839</td>\n",
       "    </tr>\n",
       "    <tr>\n",
       "      <th>1998</th>\n",
       "      <td>7900</td>\n",
       "      <td>37.31</td>\n",
       "      <td>37.846800</td>\n",
       "    </tr>\n",
       "    <tr>\n",
       "      <th>1999</th>\n",
       "      <td>5697</td>\n",
       "      <td>329.25</td>\n",
       "      <td>438.450773</td>\n",
       "    </tr>\n",
       "  </tbody>\n",
       "</table>\n",
       "<p>2000 rows × 3 columns</p>\n",
       "</div>"
      ],
      "text/plain": [
       "      index  Real Values  Predicted Values\n",
       "0      1840        99.61         93.639200\n",
       "1       587        48.16         37.366641\n",
       "2      9097        71.59         47.313190\n",
       "3      4547        51.20         33.672814\n",
       "4      3726        57.82         47.139621\n",
       "...     ...          ...               ...\n",
       "1995   7732       292.89        309.998200\n",
       "1996   5712        26.95         46.215142\n",
       "1997   4866        49.50         57.784839\n",
       "1998   7900        37.31         37.846800\n",
       "1999   5697       329.25        438.450773\n",
       "\n",
       "[2000 rows x 3 columns]"
      ]
     },
     "execution_count": 335,
     "metadata": {},
     "output_type": "execute_result"
    }
   ],
   "source": [
    "#creating a dataset with real values and predicted values\n",
    "resulting = pd.DataFrame({'Real Values':y_test, 'Predicted Values':y_pred})\n",
    "resulting.reset_index(inplace=True)\n",
    "resulting"
   ]
  },
  {
   "cell_type": "code",
   "execution_count": 336,
   "metadata": {},
   "outputs": [
    {
     "data": {
      "image/png": "[encoded data removed]",
      "text/plain": [
       "<Figure size 432x288 with 1 Axes>"
      ]
     },
     "metadata": {},
     "output_type": "display_data"
    }
   ],
   "source": [
    "# # Visualising the Random Forest Regression Results  \n",
    "plt.scatter(resulting.index, resulting['Real Values'], color = 'red')\n",
    "plt.scatter(resulting.index, resulting['Predicted Values'], color = 'green')\n",
    "plt.title('Random Forest Regression')\n",
    "plt.ylabel('Expense')\n",
    "plt.xlabel('Index')\n",
    "plt.show()"
   ]
  },
  {
   "cell_type": "code",
   "execution_count": 337,
   "metadata": {},
   "outputs": [
    {
     "name": "stdout",
     "output_type": "stream",
     "text": [
      "Mean Absolute Error (MAE): 36.92834516217519\n",
      "Mean Squared Error (MSE): 9965.327415853526\n",
      "Root Mean Squared Error (RMSE): 99.82648654467172\n",
      "Explained Variance Score: 0.7361279731732389\n",
      "Max Error: 2592.5648000000015\n",
      "Mean Squared Log Error: 0.48140718066924953\n",
      "Median Absolute Error: 14.52821750000001\n",
      "R^2: 0.7361039012561074\n"
     ]
    }
   ],
   "source": [
    "print('Mean Absolute Error (MAE):', metrics.mean_absolute_error(y_test, y_pred))\n",
    "print('Mean Squared Error (MSE):', metrics.mean_squared_error(y_test, y_pred))\n",
    "print('Root Mean Squared Error (RMSE):', metrics.mean_squared_error(y_test, y_pred, squared=False))\n",
    "print('Explained Variance Score:', metrics.explained_variance_score(y_test, y_pred))\n",
    "print('Max Error:', metrics.max_error(y_test, y_pred))\n",
    "print('Mean Squared Log Error:', metrics.mean_squared_log_error(y_test, y_pred))\n",
    "print('Median Absolute Error:', metrics.median_absolute_error(y_test, y_pred))\n",
    "print('R^2:', metrics.r2_score(y_test, y_pred))"
   ]
  },
  {
   "cell_type": "code",
   "execution_count": null,
   "metadata": {},
   "outputs": [],
   "source": []
  }
 ],
 "metadata": {
  "kernelspec": {
   "display_name": "Python 3",
   "language": "python",
   "name": "python3"
  },
  "language_info": {
   "codemirror_mode": {
    "name": "ipython",
    "version": 3
   },
   "file_extension": ".py",
   "mimetype": "text/x-python",
   "name": "python",
   "nbconvert_exporter": "python",
   "pygments_lexer": "ipython3",
   "version": "3.7.7"
  }
 },
 "nbformat": 4,
 "nbformat_minor": 4
}
